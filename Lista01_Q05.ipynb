{
  "nbformat": 4,
  "nbformat_minor": 0,
  "metadata": {
    "colab": {
      "name": "Lista01 Q05.ipynb",
      "provenance": [],
      "collapsed_sections": [],
      "authorship_tag": "ABX9TyPUdLKzeh/NCqjLip1oFqkI",
      "include_colab_link": true
    },
    "kernelspec": {
      "name": "python3",
      "display_name": "Python 3"
    }
  },
  "cells": [
    {
      "cell_type": "markdown",
      "metadata": {
        "id": "view-in-github",
        "colab_type": "text"
      },
      "source": [
        "<a href=\"https://colab.research.google.com/github/LucasSSales/AB2_TesteSW_DropWizard/blob/master/Lista01_Q05.ipynb\" target=\"_parent\"><img src=\"https://colab.research.google.com/assets/colab-badge.svg\" alt=\"Open In Colab\"/></a>"
      ]
    },
    {
      "cell_type": "code",
      "metadata": {
        "id": "jAoir-QyKfW2"
      },
      "source": [
        "import matplotlib.pyplot as plt\n",
        "import numpy as np\n",
        "import random\n",
        "\n",
        "bins=[0,5,10,15,20,25,30,35,40,45,50]\n",
        "\n",
        "#Histogram plot function\n",
        "#Parameters: variable list and name of set\n",
        "def plotHist(var, name):\n",
        "  #printing mean and median\n",
        "  print(\"Mean: \"+str(np.mean(var)))\n",
        "  print(\"Median: \"+str(np.median(var)))\n",
        "\n",
        "  plt.hist(var, edgecolor='black', bins=bins)\n",
        "  #vertical line for mean\n",
        "  plt.axvline(np.mean(var), color=\"red\", label='Mean')\n",
        "  #vertical line for median\n",
        "  plt.axvline(np.median(var), color=\"purple\", label='Median')\n",
        "  plt.legend()\n",
        "  plt.xlabel('Values')\n",
        "  plt.ylabel('Occurrences')\n",
        "  plt.title('Histogram of ' + name)\n",
        "  plt.show()"
      ],
      "execution_count": 57,
      "outputs": []
    },
    {
      "cell_type": "markdown",
      "metadata": {
        "id": "eZvVNtj-6CnW"
      },
      "source": [
        "Item A:"
      ]
    },
    {
      "cell_type": "code",
      "metadata": {
        "id": "F1PxnvIiKrZR",
        "outputId": "9ad9bcc0-6baf-4a05-a4c1-21edc9fe765f",
        "colab": {
          "base_uri": "https://localhost:8080/",
          "height": 329
        }
      },
      "source": [
        "#Plotting Histogram for V1\n",
        "v1 =  [1,2,5,5,5,5,5,5,5,5,5,5,5,5,5,8,9,13,15,16,18,22,23,24,25,29,30,31,32,35,35,36,39,41,41,41,44,45,46,49]\n",
        "plotHist(v1, \"V1\")"
      ],
      "execution_count": 58,
      "outputs": [
        {
          "output_type": "stream",
          "text": [
            "Mean: 20.375\n",
            "Median: 17.0\n"
          ],
          "name": "stdout"
        },
        {
          "output_type": "display_data",
          "data": {
            "image/png": "[encoded data removed]",
            "text/plain": [
              "<Figure size 432x288 with 1 Axes>"
            ]
          },
          "metadata": {
            "tags": [],
            "needs_background": "light"
          }
        }
      ]
    },
    {
      "cell_type": "code",
      "metadata": {
        "id": "6IEPV-RfKsG_",
        "outputId": "07e5cbe5-204c-4251-d972-d2c978db8912",
        "colab": {
          "base_uri": "https://localhost:8080/",
          "height": 329
        }
      },
      "source": [
        "#Plotting Histogram for V2\n",
        "v2 =  [1,2,5,5,8,9,13,14,15,16,18,22,23,24,24,25,25,26,27,28,29,30,31,31,31,32,33,34,35,35,36,38,39,40,41,41,44,45,46,49]\n",
        "plotHist(v2, \"V2\")"
      ],
      "execution_count": 59,
      "outputs": [
        {
          "output_type": "stream",
          "text": [
            "Mean: 26.75\n",
            "Median: 28.5\n"
          ],
          "name": "stdout"
        },
        {
          "output_type": "display_data",
          "data": {
            "image/png": "[encoded data removed]",
            "text/plain": [
              "<Figure size 432x288 with 1 Axes>"
            ]
          },
          "metadata": {
            "tags": [],
            "needs_background": "light"
          }
        }
      ]
    },
    {
      "cell_type": "markdown",
      "metadata": {
        "id": "OYKIdeP7orTM"
      },
      "source": [
        "Item B:\n",
        "\n",
        "Para a realização do teste de hipótese, serão assumidas duas hipóteses paras ambas as variaveis, sendo elas:\n",
        "*   H0 -> As distribuições são normais\n",
        "*   Ha -> As distribuições não são normais\n",
        "\n",
        "Para a realização dos cálculos do teste de hipótese, será utilizado o método de Kolomogorov-Smirnov, onde ao ser calculado utilizando um código python, serão comparados os valores de saída aos atribuidos pelo teste de hipótese, sendo eles:\n",
        "\n",
        "\n",
        "*   α = 0.05\n",
        "*   valor critico = 0.21012, sendo este o valor tabelado para o nivel de significânica igual a 5% em um caso de 40 amostras\n",
        "\n",
        "\n",
        "Para representar matematicamente, será assumido que:\n",
        "*   H0 -> p_value > α && ks_critical >= ks_statistic\n",
        "*   Ha -> p_value <= α || ks_critical < ks_statistic\n",
        "\n",
        "\n",
        "\n",
        "\n",
        "\n",
        "\n",
        "\n",
        "\n",
        "\n"
      ]
    },
    {
      "cell_type": "code",
      "metadata": {
        "id": "1govs_KINDwM"
      },
      "source": [
        "#function to avaliate the \"normality\"\n",
        "from scipy.stats import kstest, norm\n",
        "\n",
        "ks_critical = 0.21012\n",
        "\n",
        "def isNormalDist(dataset, critical, alpha = 0.05):\n",
        "  ks_statistic, p_value = kstest(dataset, cdf='norm', args=(np.mean(dataset), np.std(dataset)), N = len(dataset))\n",
        "  print(\"p_value = \" + str(p_value))\n",
        "  print(\"ks_statistic = \" + str(ks_statistic))\n",
        "  return (p_value > alpha) and (critical >= ks_statistic)\n"
      ],
      "execution_count": 60,
      "outputs": []
    },
    {
      "cell_type": "code",
      "metadata": {
        "id": "pAHQ_v1JauWg",
        "outputId": "1ca6e5ba-9879-4d3a-a6da-21638875e064",
        "colab": {
          "base_uri": "https://localhost:8080/"
        }
      },
      "source": [
        "#Hipothesis test for V1\n",
        "print(\"V1 é uma distribuição normal?\")\n",
        "if (isNormalDist(v1, ks_critical)):\n",
        "  print(\"H0 foi ACEITA para o conjunto V1\")\n",
        "else:\n",
        "  print(\"H0 foi REJEITADA para o conjunto V1\")\n",
        "\n",
        "print(\"\")\n",
        "\n",
        "#Hipothesis test for V2\n",
        "print(\"V2 é uma distribuição normal?\")\n",
        "if (isNormalDist(v2, ks_critical)):\n",
        "  print(\"H0 foi ACEITA para o conjunto V2\")\n",
        "else:\n",
        "  print(\"H0 foi REJEITADA para o conjunto V2\")\n"
      ],
      "execution_count": 61,
      "outputs": [
        {
          "output_type": "stream",
          "text": [
            "V1 é uma distribuição normal?\n",
            "p_value = 0.042290378747029254\n",
            "ks_statistic = 0.21487272670604535\n",
            "H0 foi REJEITADA para o conjunto V1\n",
            "\n",
            "V2 é uma distribuição normal?\n",
            "p_value = 0.9098758584180666\n",
            "ks_statistic = 0.08891595304603933\n",
            "H0 foi ACEITA para o conjunto V2\n"
          ],
          "name": "stdout"
        }
      ]
    },
    {
      "cell_type": "markdown",
      "metadata": {
        "id": "q3txQADm3F5w"
      },
      "source": [
        "PARA V1:\n",
        "  H0 REJEITADA, portanto não segue a distribuição normal\n",
        "\n",
        "PARA V2:\n",
        "  H0 ACEITA, portanto segue a distribuição normal"
      ]
    }
  ]
}